{
 "cells": [
  {
   "cell_type": "markdown",
   "metadata": {},
   "source": [
    "1. (A.) 請寫⼀個程式把裡⾯的字串反過來。 \n",
    "   (B.) 請寫⼀個程式把裡⾯的字串，每個單字本⾝做反轉，但是單字的順序不變。"
   ]
  },
  {
   "cell_type": "code",
   "execution_count": 2,
   "metadata": {},
   "outputs": [
    {
     "name": "stdout",
     "output_type": "stream",
     "text": [
      "ymedacaiynuj\n"
     ]
    }
   ],
   "source": [
    "# Ans_1_A\n",
    "s = 'junyiacademy'\n",
    "def string_reverse_a(s):\n",
    "    return s[::-1]\n",
    "print(string_reverse_a(s))"
   ]
  },
  {
   "cell_type": "code",
   "execution_count": 3,
   "metadata": {},
   "outputs": [
    {
     "name": "stdout",
     "output_type": "stream",
     "text": [
      "deppilf ssalc moor si tnatropmi\n"
     ]
    }
   ],
   "source": [
    "# Ans_1_B\n",
    "s = 'flipped class room is important'\n",
    "def string_reverse_b(s):\n",
    "    return ' '.join(w[::-1] for w in s.split())\n",
    "print(string_reverse_b(s))"
   ]
  },
  {
   "cell_type": "markdown",
   "metadata": {},
   "source": [
    "2. 請寫⼀個程式，Input 是⼀個數字，Output 是從 1 到這個數字，扣除掉所有 3 的倍數以及 5 的倍數，但是需要保留同時是 3 和 5 的倍數的總數字數。"
   ]
  },
  {
   "cell_type": "code",
   "execution_count": 31,
   "metadata": {},
   "outputs": [
    {
     "name": "stdout",
     "output_type": "stream",
     "text": [
      "9\n"
     ]
    }
   ],
   "source": [
    "# Ans_2\n",
    "input = 15\n",
    "num = input + 1\n",
    "numbers = list(range(1, num))\n",
    "counts = 0\n",
    "for i in numbers:\n",
    "    if (i % 3 == 0) and (i % 5 == 0):\n",
    "        counts +=1\n",
    "for i in numbers:\n",
    "    if i % 3 == 0:\n",
    "        numbers.remove(i)\n",
    "    for j in numbers:\n",
    "        if j % 5 == 0:\n",
    "            numbers.remove(j)\n",
    "print(len(numbers)+counts)"
   ]
  },
  {
   "cell_type": "markdown",
   "metadata": {},
   "source": [
    "3.房間裡有三個袋⼦，⼀個只裝鉛筆，⼀個只裝原⼦筆，第三個有鉛筆也有原⼦筆，袋⼦是不透明的，單從袋⼦的外表上看不出任何差異，你不知道哪⼀個袋⼦裝了什麼。除了袋⼦上各貼了⼀個標⽰(\"鉛筆\"、\"原⼦筆\"、\"混和\")，⽽且標⽰都是錯的(ex. 標有鉛筆的袋⼦⼀定不是只裝鉛筆)。\n",
    "你只能選⼀個袋⼦，然後拿出裡⾯⼀⽀筆看是鉛筆還是原⼦筆，然後你要推論出這三個袋⼦分別的情況。請列出您的作法，以及解釋為什麼這樣可以找到答案。"
   ]
  },
  {
   "cell_type": "code",
   "execution_count": null,
   "metadata": {},
   "outputs": [],
   "source": [
    "Ans:"
   ]
  },
  {
   "cell_type": "markdown",
   "metadata": {},
   "source": [
    "4.有三個⼈⼀起到迪⼠尼遊玩，中午肚⼦餓了，去餐廳點了⼀份現在最夯的冰雪奇緣雙⼈組，要價 900 元，付錢後，服務⽣發現今天套餐⼤特價，只要 750 元，因此服務⽣應該退還 150 元給這三個⼈，但是這位服務⽣⼀時⿁迷⼼翹，決定按扛 60 元，只退了 90 元給這三個遊客。\n",
    "那麼： 三⼈各出 300 元 - 服務⽣還給他們⼀⼈ 30 元 = 三⼈各出 270 元 270元 × 3⼈ + 服務⽣私吞的 60 元= 810 + 60 = 870 !? 怎麼不是 900 元呢？還有 30元去哪了呢？ 請⽤敘述的⽅式，儘量清楚解釋問題出在哪裡。"
   ]
  },
  {
   "cell_type": "code",
   "execution_count": null,
   "metadata": {},
   "outputs": [],
   "source": []
  }
 ],
 "metadata": {
  "kernelspec": {
   "display_name": "Python 3",
   "language": "python",
   "name": "python3"
  },
  "language_info": {
   "codemirror_mode": {
    "name": "ipython",
    "version": 3
   },
   "file_extension": ".py",
   "mimetype": "text/x-python",
   "name": "python",
   "nbconvert_exporter": "python",
   "pygments_lexer": "ipython3",
   "version": "3.6.8"
  }
 },
 "nbformat": 4,
 "nbformat_minor": 2
}
